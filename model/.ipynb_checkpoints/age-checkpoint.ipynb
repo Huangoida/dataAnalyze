{
 "cells": [
  {
   "cell_type": "code",
   "execution_count": 10,
   "metadata": {
    "pycharm": {
     "is_executing": false
    }
   },
   "outputs": [
    {
     "ename": "ValueError",
     "evalue": "\nTo use the 'notebook' renderer, you must install the vega package\nand the associated Jupyter extension.\nSee https://altair-viz.github.io/getting_started/installation.html\nfor more information.\n",
     "output_type": "error",
     "traceback": [
      "\u001b[1;31m---------------------------------------------------------------------------\u001b[0m",
      "\u001b[1;31mNoSuchEntryPoint\u001b[0m                          Traceback (most recent call last)",
      "\u001b[1;32m~\\.conda\\envs\\py36\\lib\\site-packages\\altair\\utils\\plugin_registry.py\u001b[0m in \u001b[0;36m_enable\u001b[1;34m(self, name, **options)\u001b[0m\n\u001b[0;32m    133\u001b[0m             \u001b[1;32mtry\u001b[0m\u001b[1;33m:\u001b[0m\u001b[1;33m\u001b[0m\u001b[1;33m\u001b[0m\u001b[0m\n\u001b[1;32m--> 134\u001b[1;33m                 \u001b[0mep\u001b[0m \u001b[1;33m=\u001b[0m \u001b[0mentrypoints\u001b[0m\u001b[1;33m.\u001b[0m\u001b[0mget_single\u001b[0m\u001b[1;33m(\u001b[0m\u001b[0mself\u001b[0m\u001b[1;33m.\u001b[0m\u001b[0mentry_point_group\u001b[0m\u001b[1;33m,\u001b[0m \u001b[0mname\u001b[0m\u001b[1;33m)\u001b[0m\u001b[1;33m\u001b[0m\u001b[1;33m\u001b[0m\u001b[0m\n\u001b[0m\u001b[0;32m    135\u001b[0m             \u001b[1;32mexcept\u001b[0m \u001b[0mentrypoints\u001b[0m\u001b[1;33m.\u001b[0m\u001b[0mNoSuchEntryPoint\u001b[0m\u001b[1;33m:\u001b[0m\u001b[1;33m\u001b[0m\u001b[1;33m\u001b[0m\u001b[0m\n",
      "\u001b[1;32m~\\.conda\\envs\\py36\\lib\\site-packages\\entrypoints.py\u001b[0m in \u001b[0;36mget_single\u001b[1;34m(group, name, path)\u001b[0m\n\u001b[0;32m    216\u001b[0m \u001b[1;33m\u001b[0m\u001b[0m\n\u001b[1;32m--> 217\u001b[1;33m     \u001b[1;32mraise\u001b[0m \u001b[0mNoSuchEntryPoint\u001b[0m\u001b[1;33m(\u001b[0m\u001b[0mgroup\u001b[0m\u001b[1;33m,\u001b[0m \u001b[0mname\u001b[0m\u001b[1;33m)\u001b[0m\u001b[1;33m\u001b[0m\u001b[1;33m\u001b[0m\u001b[0m\n\u001b[0m\u001b[0;32m    218\u001b[0m \u001b[1;33m\u001b[0m\u001b[0m\n",
      "\u001b[1;31mNoSuchEntryPoint\u001b[0m: No 'notebook' entry point found in group 'altair.vegalite.v3.renderer'",
      "\nDuring handling of the above exception, another exception occurred:\n",
      "\u001b[1;31mValueError\u001b[0m                                Traceback (most recent call last)",
      "\u001b[1;32m<ipython-input-10-ba58d9a2cc88>\u001b[0m in \u001b[0;36m<module>\u001b[1;34m\u001b[0m\n\u001b[0;32m      8\u001b[0m \u001b[0mphoneAge\u001b[0m \u001b[1;33m=\u001b[0m \u001b[0mpd\u001b[0m\u001b[1;33m.\u001b[0m\u001b[0mread_csv\u001b[0m\u001b[1;33m(\u001b[0m\u001b[1;34m\"../data/iphone.csv\"\u001b[0m\u001b[1;33m)\u001b[0m\u001b[1;33m\u001b[0m\u001b[1;33m\u001b[0m\u001b[0m\n\u001b[0;32m      9\u001b[0m \u001b[0mphoneAge\u001b[0m \u001b[1;33m=\u001b[0m \u001b[0mphoneAge\u001b[0m\u001b[1;33m.\u001b[0m\u001b[0mdrop\u001b[0m\u001b[1;33m(\u001b[0m\u001b[1;33m[\u001b[0m\u001b[1;34m'_id'\u001b[0m\u001b[1;33m]\u001b[0m\u001b[1;33m,\u001b[0m \u001b[0maxis\u001b[0m\u001b[1;33m=\u001b[0m\u001b[1;36m1\u001b[0m\u001b[1;33m)\u001b[0m\u001b[1;33m\u001b[0m\u001b[1;33m\u001b[0m\u001b[0m\n\u001b[1;32m---> 10\u001b[1;33m \u001b[0malt\u001b[0m\u001b[1;33m.\u001b[0m\u001b[0mrenderers\u001b[0m\u001b[1;33m.\u001b[0m\u001b[0menable\u001b[0m\u001b[1;33m(\u001b[0m\u001b[1;34m'notebook'\u001b[0m\u001b[1;33m)\u001b[0m\u001b[1;33m\u001b[0m\u001b[1;33m\u001b[0m\u001b[0m\n\u001b[0m\u001b[0;32m     11\u001b[0m PROVINCE_CODE = {'山东': '901', '贵州': '902', '江西': '903', '重庆': '904',\n\u001b[0;32m     12\u001b[0m                      \u001b[1;34m'内蒙古'\u001b[0m\u001b[1;33m:\u001b[0m \u001b[1;34m'905'\u001b[0m\u001b[1;33m,\u001b[0m \u001b[1;34m'湖北'\u001b[0m\u001b[1;33m:\u001b[0m \u001b[1;34m'906'\u001b[0m\u001b[1;33m,\u001b[0m \u001b[1;34m'辽宁'\u001b[0m\u001b[1;33m:\u001b[0m \u001b[1;34m'907'\u001b[0m\u001b[1;33m,\u001b[0m \u001b[1;34m'湖南'\u001b[0m\u001b[1;33m:\u001b[0m \u001b[1;34m'908'\u001b[0m\u001b[1;33m,\u001b[0m\u001b[1;33m\u001b[0m\u001b[1;33m\u001b[0m\u001b[0m\n",
      "\u001b[1;32m~\\.conda\\envs\\py36\\lib\\site-packages\\altair\\utils\\plugin_registry.py\u001b[0m in \u001b[0;36menable\u001b[1;34m(self, name, **options)\u001b[0m\n\u001b[0;32m    169\u001b[0m         \u001b[1;32mif\u001b[0m \u001b[0mname\u001b[0m \u001b[1;32mis\u001b[0m \u001b[1;32mNone\u001b[0m\u001b[1;33m:\u001b[0m\u001b[1;33m\u001b[0m\u001b[1;33m\u001b[0m\u001b[0m\n\u001b[0;32m    170\u001b[0m             \u001b[0mname\u001b[0m \u001b[1;33m=\u001b[0m \u001b[0mself\u001b[0m\u001b[1;33m.\u001b[0m\u001b[0mactive\u001b[0m\u001b[1;33m\u001b[0m\u001b[1;33m\u001b[0m\u001b[0m\n\u001b[1;32m--> 171\u001b[1;33m         \u001b[1;32mreturn\u001b[0m \u001b[0mPluginEnabler\u001b[0m\u001b[1;33m(\u001b[0m\u001b[0mself\u001b[0m\u001b[1;33m,\u001b[0m \u001b[0mname\u001b[0m\u001b[1;33m,\u001b[0m \u001b[1;33m**\u001b[0m\u001b[0moptions\u001b[0m\u001b[1;33m)\u001b[0m\u001b[1;33m\u001b[0m\u001b[1;33m\u001b[0m\u001b[0m\n\u001b[0m\u001b[0;32m    172\u001b[0m \u001b[1;33m\u001b[0m\u001b[0m\n\u001b[0;32m    173\u001b[0m \u001b[1;33m\u001b[0m\u001b[0m\n",
      "\u001b[1;32m~\\.conda\\envs\\py36\\lib\\site-packages\\altair\\utils\\plugin_registry.py\u001b[0m in \u001b[0;36m__init__\u001b[1;34m(self, registry, name, **options)\u001b[0m\n\u001b[0;32m     23\u001b[0m         \u001b[0mself\u001b[0m\u001b[1;33m.\u001b[0m\u001b[0moptions\u001b[0m \u001b[1;33m=\u001b[0m \u001b[0moptions\u001b[0m\u001b[1;33m\u001b[0m\u001b[1;33m\u001b[0m\u001b[0m\n\u001b[0;32m     24\u001b[0m         \u001b[0mself\u001b[0m\u001b[1;33m.\u001b[0m\u001b[0moriginal_state\u001b[0m \u001b[1;33m=\u001b[0m \u001b[0mregistry\u001b[0m\u001b[1;33m.\u001b[0m\u001b[0m_get_state\u001b[0m\u001b[1;33m(\u001b[0m\u001b[1;33m)\u001b[0m\u001b[1;33m\u001b[0m\u001b[1;33m\u001b[0m\u001b[0m\n\u001b[1;32m---> 25\u001b[1;33m         \u001b[0mself\u001b[0m\u001b[1;33m.\u001b[0m\u001b[0mregistry\u001b[0m\u001b[1;33m.\u001b[0m\u001b[0m_enable\u001b[0m\u001b[1;33m(\u001b[0m\u001b[0mname\u001b[0m\u001b[1;33m,\u001b[0m \u001b[1;33m**\u001b[0m\u001b[0moptions\u001b[0m\u001b[1;33m)\u001b[0m\u001b[1;33m\u001b[0m\u001b[1;33m\u001b[0m\u001b[0m\n\u001b[0m\u001b[0;32m     26\u001b[0m \u001b[1;33m\u001b[0m\u001b[0m\n\u001b[0;32m     27\u001b[0m     \u001b[1;32mdef\u001b[0m \u001b[0m__enter__\u001b[0m\u001b[1;33m(\u001b[0m\u001b[0mself\u001b[0m\u001b[1;33m)\u001b[0m\u001b[1;33m:\u001b[0m\u001b[1;33m\u001b[0m\u001b[1;33m\u001b[0m\u001b[0m\n",
      "\u001b[1;32m~\\.conda\\envs\\py36\\lib\\site-packages\\altair\\utils\\plugin_registry.py\u001b[0m in \u001b[0;36m_enable\u001b[1;34m(self, name, **options)\u001b[0m\n\u001b[0;32m    135\u001b[0m             \u001b[1;32mexcept\u001b[0m \u001b[0mentrypoints\u001b[0m\u001b[1;33m.\u001b[0m\u001b[0mNoSuchEntryPoint\u001b[0m\u001b[1;33m:\u001b[0m\u001b[1;33m\u001b[0m\u001b[1;33m\u001b[0m\u001b[0m\n\u001b[0;32m    136\u001b[0m                 \u001b[1;32mif\u001b[0m \u001b[0mname\u001b[0m \u001b[1;32min\u001b[0m \u001b[0mself\u001b[0m\u001b[1;33m.\u001b[0m\u001b[0mentrypoint_err_messages\u001b[0m\u001b[1;33m:\u001b[0m\u001b[1;33m\u001b[0m\u001b[1;33m\u001b[0m\u001b[0m\n\u001b[1;32m--> 137\u001b[1;33m                     \u001b[1;32mraise\u001b[0m \u001b[0mValueError\u001b[0m\u001b[1;33m(\u001b[0m\u001b[0mself\u001b[0m\u001b[1;33m.\u001b[0m\u001b[0mentrypoint_err_messages\u001b[0m\u001b[1;33m[\u001b[0m\u001b[0mname\u001b[0m\u001b[1;33m]\u001b[0m\u001b[1;33m)\u001b[0m\u001b[1;33m\u001b[0m\u001b[1;33m\u001b[0m\u001b[0m\n\u001b[0m\u001b[0;32m    138\u001b[0m                 \u001b[1;32melse\u001b[0m\u001b[1;33m:\u001b[0m\u001b[1;33m\u001b[0m\u001b[1;33m\u001b[0m\u001b[0m\n\u001b[0;32m    139\u001b[0m                     \u001b[1;32mraise\u001b[0m\u001b[1;33m\u001b[0m\u001b[1;33m\u001b[0m\u001b[0m\n",
      "\u001b[1;31mValueError\u001b[0m: \nTo use the 'notebook' renderer, you must install the vega package\nand the associated Jupyter extension.\nSee https://altair-viz.github.io/getting_started/installation.html\nfor more information.\n"
     ]
    }
   ],
   "source": [
    "import pandas as pd\n",
    "from pandasql import sqldf\n",
    "from pyecharts.charts import Line\n",
    "import pyecharts.options as opts\n",
    "import altair\n",
    "import pyecharts\n",
    "pysqldf = lambda q: sqldf(q, globals())\n",
    "phoneAge = pd.read_csv(\"../data/iphone.csv\")\n",
    "phoneAge = phoneAge.drop(['_id'], axis=1)\n",
    "alt.renderers.enable('notebook')\n",
    "PROVINCE_CODE = {'山东': '901', '贵州': '902', '江西': '903', '重庆': '904',\n",
    "                     '内蒙古': '905', '湖北': '906', '辽宁': '907', '湖南': '908',\n",
    "                     '福建': '909', '上海': '910', '北京': '911', '广西': '912',\n",
    "                     '广东': '913', '四川': '914', '云南': '915', '江苏': '916',\n",
    "                     '浙江': '917', '青海': '918', '宁夏': '919', '河北': '920',\n",
    "                     '黑龙江': '921', '吉林': '922', '天津': '923', '陕西': '924',\n",
    "                     '甘肃': '925', '新疆': '926', '河南': '927', '安徽': '928',\n",
    "                     '山西': '929', '海南': '930', '台湾': '931', '西藏': '932',\n",
    "                     '香港': '933', '澳门': '934'}\n",
    "CITY_CODE = {'深圳': '94', '东莞': '133', '云浮': '195', '佛山': '196', '湛江': '197',\n",
    "             '江门': '198', '惠州': '199', '珠海': '200', '韶关': '201', '阳江': '202',\n",
    "             '茂名': '203', '潮州': '204', '揭阳': '205', '中山': '207', '清远': '208',\n",
    "             '肇庆': '209', '河源': '210', '梅州': '211', '汕头': '212', '汕尾': '213',\n",
    "             '郑州': '168', '南阳': '262', '新乡': '263', '开封': '264', '焦作': '265',\n",
    "             '平顶山': '266', '许昌': '268', '安阳': '370', '驻马店': '371', '信阳': '373',\n",
    "             '鹤壁': '374', '周口': '375', '商丘': '376', '洛阳': '378', '漯河': '379',\n",
    "             '濮阳': '380', '三门峡': '381', '济源': '667', '成都': '97', '宜宾': '96',\n",
    "             '绵阳': '98', '广元': '99', '遂宁': '100', '巴中': '101', '内江': '102',\n",
    "             '泸州': '103', '南充': '104', '德阳': '106', '乐山': '107', '广安': '108',\n",
    "             '资阳': '109', '自贡': '111', '攀枝花': '112', '达州': '113', '雅安': '114',\n",
    "             '眉山': '291', '甘孜': '417', '阿坝': '457', '凉山': '479', '南京': '125',\n",
    "             '苏州': '126', '无锡': '127', '连云港': '156', '淮安': '157', '扬州': '158',\n",
    "             '泰州': '159', '盐城': '160', '徐州': '161', '常州': '162', '南通': '163',\n",
    "             '镇江': '169', '宿迁': '172', '武汉': '28', '黄石': '30', '荆州': '31',\n",
    "             '襄阳': '32', '黄冈': '33', '荆门': '34', '宜昌': '35', '十堰': '36',\n",
    "             '随州': '37', '恩施': '38', '鄂州': '39', '咸宁': '40', '孝感': '41',\n",
    "             '仙桃': '42', '天门': '73', '潜江': '74', '神农架': '687', '杭州': '138',\n",
    "             '丽水': '134', '金华': '135', '温州': '149', '台州': '287', '衢州': '288',\n",
    "             '宁波': '289', '绍兴': '303', '嘉兴': '304', '湖州': '305', '舟山': '306',\n",
    "             '福州': '50', '莆田': '51', '三明': '52', '龙岩': '53', '厦门': '54',\n",
    "             '泉州': '55', '漳州': '56', '宁德': '87', '南平': '253', '哈尔滨': '152',\n",
    "             '大庆': '153', '伊春': '295', '大兴安岭': '297', '黑河': '300', '鹤岗': '301',\n",
    "             '七台河': '302', '齐齐哈尔': '319', '佳木斯': '320', '牡丹江': '322',\n",
    "             '鸡西': '323', '绥化': '324', '双鸭山': '359', '济南': '1', '滨州': '76',\n",
    "             '青岛': '77', '烟台': '78', '临沂': '79', '潍坊': '80', '淄博': '81',\n",
    "             '东营': '82', '聊城': '83', '菏泽': '84', '枣庄': '85', '德州': '86',\n",
    "             '威海': '88', '济宁': '352', '泰安': '353', '莱芜': '356', '日照': '366',\n",
    "             '西安': '165', '铜川': '271', '安康': '272', '宝鸡': '273', '商洛': '274',\n",
    "             '渭南': '275', '汉中': '276', '咸阳': '277', '榆林': '278', '延安': '401',\n",
    "             '石家庄': '141', '衡水': '143', '张家口': '144', '承德': '145', '秦皇岛': '146',\n",
    "             '廊坊': '147', '沧州': '148', '保定': '259', '唐山': '261', '邯郸': '292',\n",
    "             '邢台': '293', '沈阳': '150', '大连': '29', '盘锦': '151', '鞍山': '215',\n",
    "             '朝阳': '216', '锦州': '217', '铁岭': '218', '丹东': '219', '本溪': '220',\n",
    "             '营口': '221', '抚顺': '222', '阜新': '223', '辽阳': '224', '葫芦岛': '225',\n",
    "             '长春': '154', '四平': '155', '辽源': '191', '松原': '194', '吉林': '270',\n",
    "             '通化': '407', '白山': '408', '白城': '410', '延边': '525', '昆明': '117',\n",
    "             '玉溪': '123', '楚雄': '124', '大理': '334', '昭通': '335', '红河': '337',\n",
    "             '曲靖': '339', '丽江': '342', '临沧': '350', '文山': '437', '保山': '438',\n",
    "             '普洱': '666', '西双版纳': '668', '德宏': '669', '怒江': '671', '迪庆': '672',\n",
    "             '乌鲁木齐': '467', '石河子': '280', '吐鲁番': '310', '昌吉': '311',\n",
    "             '哈密': '312', '阿克苏': '315', '克拉玛依': '317', '博尔塔拉': '318',\n",
    "             '阿勒泰': '383', '喀什': '384', '和田': '386', '巴音郭楞': '499', '伊犁': '520',\n",
    "             '塔城': '563', '克孜勒苏柯尔克孜': '653', '五家渠': '661', '阿拉尔': '692',\n",
    "             '图木舒克': '693', '南宁': '90', '柳州': '89', '桂林': '91', '贺州': '92',\n",
    "             '贵港': '93', '玉林': '118', '河池': '119', '北海': '128', '钦州': '129',\n",
    "             '防城港': '130', '百色': '131', '梧州': '132', '来宾': '506', '崇左': '665',\n",
    "             '太原': '231', '大同': '227', '长治': '228', '忻州': '229', '晋中': '230',\n",
    "             '临汾': '232', '运城': '233', '晋城': '234', '朔州': '235', '阳泉': '236',\n",
    "             '吕梁': '237', '长沙': '43', '岳阳': '44', '衡阳': '45', '株洲': '46',\n",
    "             '湘潭': '47', '益阳': '48', '郴州': '49', '湘西': '65', '娄底': '66',\n",
    "             '怀化': '67', '常德': '68', '张家界': '226', '永州': '269', '邵阳': '405',\n",
    "             '南昌': '5', '九江': '6', '鹰潭': '7', '抚州': '8', '上饶': '9', '赣州': '10',\n",
    "             '吉安': '115', '萍乡': '136', '景德镇': '137', '新余': '246', '宜春': '256',\n",
    "             '合肥': '189', '铜陵': '173', '黄山': '174', '池州': '175', '宣城': '176',\n",
    "             '巢湖': '177', '淮南': '178', '宿州': '179', '六安': '181', '滁州': '182',\n",
    "             '淮北': '183', '阜阳': '184', '马鞍山': '185', '安庆': '186', '蚌埠': '187',\n",
    "             '芜湖': '188', '亳州': '391', '呼和浩特': '20', '包头': '13', '鄂尔多斯': '14',\n",
    "             '巴彦淖尔': '15', '乌海': '16', '阿拉善盟': '17', '锡林郭勒盟': '19', '赤峰': '21',\n",
    "             '通辽': '22', '呼伦贝尔': '25', '乌兰察布': '331', '兴安盟': '333', '兰州': '166',\n",
    "             '庆阳': '281', '定西': '282', '武威': '283', '酒泉': '284', '张掖': '285',\n",
    "             '嘉峪关': '286', '平凉': '307', '天水': '308', '白银': '309', '金昌': '343',\n",
    "             '陇南': '344', '临夏': '346', '甘南': '673', '海口': '239', '万宁': '241',\n",
    "             '琼海': '242', '三亚': '243', '儋州': '244', '东方': '456', '五指山': '582',\n",
    "             '文昌': '670', '陵水': '674', '澄迈': '675', '乐东': '679', '临高': '680',\n",
    "             '定安': '681', '昌江': '683', '屯昌': '684', '保亭': '686', '白沙': '689',\n",
    "             '琼中': '690', '贵阳': '2', '黔南': '3', '六盘水': '4', '遵义': '59',\n",
    "             '黔东南': '61', '铜仁': '422', '安顺': '424', '毕节': '426', '黔西南': '588',\n",
    "             '银川': '140', '吴忠': '395', '固原': '396', '石嘴山': '472', '中卫': '480',\n",
    "             '西宁': '139', '海西': '608', '海东': '652', '玉树': '659', '海南': '676',\n",
    "             '海北': '682', '黄南': '685', '果洛': '688', '拉萨': '466', '日喀则': '516',\n",
    "             '那曲': '655', '林芝': '656', '山南': '677', '昌都': '678', '阿里': '691'}\n",
    "phoneAge.head()"
   ]
  },
  {
   "cell_type": "code",
   "execution_count": null,
   "metadata": {
    "pycharm": {
     "is_executing": false,
     "name": "#%%\n"
    }
   },
   "outputs": [],
   "source": [
    "iphone = phoneAge[phoneAge['keyword'] == 'iphone']\n",
    "iphone.tail()"
   ]
  },
  {
   "cell_type": "code",
   "execution_count": null,
   "metadata": {
    "pycharm": {
     "is_executing": false,
     "name": "#%%\n"
    }
   },
   "outputs": [],
   "source": [
    "a= pysqldf(\"SELECT keyword,level1 ,level2,level3 ,level4 ,level5,date  FROM iphone ;\")\n",
    "a=a.astype({'level1':'int','level2':'int'})\n",
    "a.head()\n",
    "print (list(a[\"level1\"]))"
   ]
  },
  {
   "cell_type": "code",
   "execution_count": null,
   "metadata": {
    "pycharm": {
     "is_executing": false,
     "name": "#%%\n"
    }
   },
   "outputs": [],
   "source": [
    "c=Line().add_xaxis(xaxis_data=a['date']).add_yaxis(\"0-19岁\", list(a[\"level1\"])).add_yaxis(\"20-30岁\", a[\"level2\"]).set_global_opts(title_opts=opts.TitleOpts(title=\"Line-基本示例\"))\n",
    "c.render_notebook()"
   ]
  },
  {
   "cell_type": "code",
   "execution_count": null,
   "metadata": {
    "pycharm": {
     "name": "#%%\n"
    }
   },
   "outputs": [],
   "source": [
    "alt.Chart(a).mark_line().encode(x='date',y='level1')\n"
   ]
  }
 ],
 "metadata": {
  "kernelspec": {
   "display_name": "Python 3",
   "language": "python",
   "name": "python3"
  },
  "language_info": {
   "codemirror_mode": {
    "name": "ipython",
    "version": 3
   },
   "file_extension": ".py",
   "mimetype": "text/x-python",
   "name": "python",
   "nbconvert_exporter": "python",
   "pygments_lexer": "ipython3",
   "version": "3.6.9"
  },
  "pycharm": {
   "stem_cell": {
    "cell_type": "raw",
    "metadata": {
     "collapsed": false
    },
    "source": []
   }
  },
  "toc": {
   "base_numbering": 1,
   "nav_menu": {},
   "number_sections": true,
   "sideBar": true,
   "skip_h1_title": false,
   "title_cell": "Table of Contents",
   "title_sidebar": "Contents",
   "toc_cell": false,
   "toc_position": {},
   "toc_section_display": true,
   "toc_window_display": false
  },
  "varInspector": {
   "cols": {
    "lenName": 16,
    "lenType": 16,
    "lenVar": 40
   },
   "kernels_config": {
    "python": {
     "delete_cmd_postfix": "",
     "delete_cmd_prefix": "del ",
     "library": "var_list.py",
     "varRefreshCmd": "print(var_dic_list())"
    },
    "r": {
     "delete_cmd_postfix": ") ",
     "delete_cmd_prefix": "rm(",
     "library": "var_list.r",
     "varRefreshCmd": "cat(var_dic_list()) "
    }
   },
   "types_to_exclude": [
    "module",
    "function",
    "builtin_function_or_method",
    "instance",
    "_Feature"
   ],
   "window_display": false
  }
 },
 "nbformat": 4,
 "nbformat_minor": 1
}
